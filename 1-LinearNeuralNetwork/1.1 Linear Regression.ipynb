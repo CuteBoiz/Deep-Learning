{
 "cells": [
  {
   "cell_type": "markdown",
   "metadata": {},
   "source": [
    "## I. Các thành phần cơ bản của Linear Regression \n",
    "1. Mô hình tuyến tính.\n",
    "2. Hàm mất mát.\n",
    "3. Nghiệm theo công thức. \n",
    "4. Hạ Gradient.\n",
    "5. Dự đoán bằng mô hình đã huấn luyện.\n",
    "6. Vector hóa để tăng tốc độ tình toán.\n"
   ]
  },
  {
   "cell_type": "markdown",
   "metadata": {},
   "source": [
    "## II. Phân phối chuẩn và Mean Square Error"
   ]
  }
 ],
 "metadata": {
  "kernelspec": {
   "display_name": "Python 3",
   "language": "python",
   "name": "python3"
  },
  "language_info": {
   "codemirror_mode": {
    "name": "ipython",
    "version": 3
   },
   "file_extension": ".py",
   "mimetype": "text/x-python",
   "name": "python",
   "nbconvert_exporter": "python",
   "pygments_lexer": "ipython3",
   "version": "3.8.5"
  }
 },
 "nbformat": 4,
 "nbformat_minor": 4
}
